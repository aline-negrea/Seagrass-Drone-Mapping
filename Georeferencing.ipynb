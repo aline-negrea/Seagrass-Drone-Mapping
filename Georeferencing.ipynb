{
 "cells": [
  {
   "cell_type": "markdown",
   "id": "e243c94f-d09f-4c77-a34b-97595b241a50",
   "metadata": {},
   "source": [
    "# Georeferencing"
   ]
  },
  {
   "cell_type": "markdown",
   "id": "a1ea55f8-8359-429e-a191-a1d04b485b35",
   "metadata": {},
   "source": [
    "This code uses the geographical information stored in the original unprocessed orthomosaic and applies it to a copy of the Seagrass binary tif, which is the end result of the previous section. The output is a binary tif that can be dragged and dropped into QGIS and has the correct geographical and projection information."
   ]
  },
  {
   "cell_type": "markdown",
   "id": "899550b3-b4d3-451d-852c-825e5e23338e",
   "metadata": {},
   "source": [
    "*To do:*\n",
    "- Polygonize/vectorize the seagrass and save it as a shapefile\n",
    "- Calculate basic statistics: Seagrass Area in m2, % of total area, average patch size & std maybe?"
   ]
  },
  {
   "cell_type": "code",
   "execution_count": 1,
   "id": "3fbbdad8-31d5-45a3-b664-14314a36632c",
   "metadata": {},
   "outputs": [],
   "source": [
    "# import libraries\n",
    "from osgeo import gdal"
   ]
  },
  {
   "cell_type": "code",
   "execution_count": 2,
   "id": "9479039c-7bbe-4723-8c66-847354cd3e84",
   "metadata": {},
   "outputs": [],
   "source": [
    "image_name = \"AK_tryout\"\n",
    "src_path = rf\"C:\\Users\\aline\\Seagrass Mapping Drone\\Tifffiles\\{image_name}.tif\"\n",
    "pro_path = rf\"C:\\Users\\aline\\Seagrass Mapping Drone\\Processed tiffs\\{image_name}_SeagrassBinary.tif\"\n",
    "dst_path = rf\"C:\\Users\\aline\\Seagrass Mapping Drone\\Processed tiffs\\{image_name}_GeoRef.tif\""
   ]
  },
  {
   "cell_type": "code",
   "execution_count": 9,
   "id": "ea8d9a5b-083b-4c4e-a47b-c13ef8e802f7",
   "metadata": {},
   "outputs": [
    {
     "name": "stdout",
     "output_type": "stream",
     "text": [
      "The binary file has been successfully georeferenced. The pixelsize is 0.05025239034331673 metres\n"
     ]
    }
   ],
   "source": [
    "# open original and processed tif in gdal\n",
    "src_ds = gdal.Open(src_path)\n",
    "pro_ds = gdal.Open(pro_path)\n",
    "\n",
    "# get geotransform data from the original tif and safe as variable\n",
    "geo_data = src_ds.GetGeoTransform()\n",
    "\n",
    "# get driver\n",
    "fileformat = \"GTiff\"\n",
    "driver = gdal.GetDriverByName(fileformat)\n",
    "\n",
    "# create a copy of the processed image in the correct format (GTiff), then apply geotransform information to the copy\n",
    "dst_ds = driver.CreateCopy(dst_path, pro_ds, strict=0)\n",
    "dst_ds.SetGeoTransform(geo_data)\n",
    "\n",
    "# assign the right projection\n",
    "src_projection = src_ds.GetProjection()\n",
    "dst_ds.SetProjection(src_projection)\n",
    "\n",
    "if geo_data == dst_ds.GetGeoTransform():\n",
    "    print(f\"The binary file has been successfully georeferenced. The pixelsize is {geo_data[1]} metres\")\n",
    "\n",
    "# close all datasets\n",
    "dst_ds = None\n",
    "src_ds = None\n",
    "pro_ds = None"
   ]
  },
  {
   "cell_type": "code",
   "execution_count": 138,
   "id": "c0adfbd7-199b-4ada-92bb-ef51f7b806b8",
   "metadata": {},
   "outputs": [],
   "source": []
  },
  {
   "cell_type": "markdown",
   "id": "a409108a-ab4a-4041-9dea-28f1948d0219",
   "metadata": {},
   "source": [
    "## Part 2: Basic Statistics"
   ]
  },
  {
   "cell_type": "code",
   "execution_count": 4,
   "id": "97109de3-7589-47e2-bdb5-c5e3e92d0e79",
   "metadata": {},
   "outputs": [],
   "source": [
    "# define the function that computes the seagrass area based on the size of one pixel and the number of white pixels\n",
    "\n",
    "def calculate_white_area(image, pixel_size):\n",
    " \n",
    "    # Check if the image was loaded correctly\n",
    "    if image is None:\n",
    "        print(\"Error: Image not loaded correctly.\")\n",
    "        return\n",
    "\n",
    "    # Count the number of white pixels (value 255)\n",
    "    white_pixel_count = cv2.countNonZero(image)\n",
    "\n",
    "    # Each white pixel represents an area on the ground based on the GSD\n",
    "    area_per_pixel_in_cm2 = pixel_size ** 2\n",
    "\n",
    "    # Total area in square centimeters\n",
    "    area_cm2 = white_pixel_count * area_per_pixel_in_cm2\n",
    "\n",
    "    # Convert area to square meters\n",
    "    area_m2 = area_cm2 / 10000\n",
    "\n",
    "    # Convert area to hectares\n",
    "    area_hectares = area_m2 / 10000\n",
    "\n",
    "    # Print the results\n",
    "    print(f\"Number of white pixels: {white_pixel_count}\")\n",
    "    print(f\"Area covered by one pixels: {pixel_size*pixel_size} square centimeters\")\n",
    "    print(f\"Covered area: {round(area_cm2, 0)} square centimeters\")\n",
    "    print(f\"Covered area: {round(area_m2, 2)} square meters\")\n",
    "    print(f\"Covered area: {round(area_hectares, 4)} hectares\")"
   ]
  },
  {
   "cell_type": "code",
   "execution_count": 6,
   "id": "9c5db209-30aa-4ca4-a72a-a2025a9bdb19",
   "metadata": {},
   "outputs": [
    {
     "ename": "NameError",
     "evalue": "name 'image_with_filled_patches' is not defined",
     "output_type": "error",
     "traceback": [
      "\u001b[31m---------------------------------------------------------------------------\u001b[39m",
      "\u001b[31mNameError\u001b[39m                                 Traceback (most recent call last)",
      "\u001b[36mCell\u001b[39m\u001b[36m \u001b[39m\u001b[32mIn[6]\u001b[39m\u001b[32m, line 7\u001b[39m\n\u001b[32m      4\u001b[39m pixel_size = geo_data[\u001b[32m0\u001b[39m]\n\u001b[32m      6\u001b[39m \u001b[38;5;66;03m# Calculate and display the white area\u001b[39;00m\n\u001b[32m----> \u001b[39m\u001b[32m7\u001b[39m calculate_white_area(\u001b[43mimage_with_filled_patches\u001b[49m, pixel_size)\n",
      "\u001b[31mNameError\u001b[39m: name 'image_with_filled_patches' is not defined"
     ]
    }
   ],
   "source": [
    "# Define inputs and run function\n",
    "\n",
    "# Pixel size in cm, from GDAL GeoTransform\n",
    "pixel_size = geo_data[0]\n",
    "\n",
    "# Calculate and display the white area\n",
    "calculate_white_area(image_with_filled_patches, pixel_size)"
   ]
  },
  {
   "cell_type": "code",
   "execution_count": 119,
   "id": "7b3cd968-ffa3-457b-9595-979d184ddd5a",
   "metadata": {},
   "outputs": [
    {
     "ename": "AttributeError",
     "evalue": "'Dataset' object has no attribute 'polygonize'",
     "output_type": "error",
     "traceback": [
      "\u001b[31m---------------------------------------------------------------------------\u001b[39m",
      "\u001b[31mAttributeError\u001b[39m                            Traceback (most recent call last)",
      "\u001b[36mCell\u001b[39m\u001b[36m \u001b[39m\u001b[32mIn[119]\u001b[39m\u001b[32m, line 1\u001b[39m\n\u001b[32m----> \u001b[39m\u001b[32m1\u001b[39m \u001b[43mdst_ds\u001b[49m\u001b[43m.\u001b[49m\u001b[43mpolygonize\u001b[49m(\u001b[32m1\u001b[39m, \u001b[32m1\u001b[39m)\n\u001b[32m      2\u001b[39m dst_ds = \u001b[38;5;28;01mNone\u001b[39;00m\n",
      "\u001b[31mAttributeError\u001b[39m: 'Dataset' object has no attribute 'polygonize'"
     ]
    }
   ],
   "source": [
    "dst_ds.polygonize(1, 1)\n"
   ]
  },
  {
   "cell_type": "code",
   "execution_count": 120,
   "id": "1329aa54-f6da-4353-a247-d10a30f27505",
   "metadata": {},
   "outputs": [],
   "source": [
    "dst_ds = None"
   ]
  },
  {
   "cell_type": "markdown",
   "id": "a1ee0d95-50ac-4c5a-86ce-c62a245ca92c",
   "metadata": {
    "jp-MarkdownHeadingCollapsed": true
   },
   "source": [
    "## More tryouts"
   ]
  },
  {
   "cell_type": "code",
   "execution_count": 5,
   "id": "40232ebc-2172-49de-9848-5fc688c0ff7d",
   "metadata": {},
   "outputs": [],
   "source": [
    "import cv2\n",
    "import numpy as np"
   ]
  },
  {
   "cell_type": "code",
   "execution_count": 9,
   "id": "88f9e457-bdcd-4fc5-b970-8bc8e4327a64",
   "metadata": {},
   "outputs": [],
   "source": [
    "imo = cv2.imread(r\"C:\\Users\\aline\\Seagrass Mapping Drone\\Tifffiles\\AK_tryout.tif\")\n",
    "imp = cv2.imread(r\"C:\\Users\\aline\\Seagrass Mapping Drone\\Processed tiffs\\Seagrass_binary_AK_tryout.tif\")"
   ]
  },
  {
   "cell_type": "code",
   "execution_count": 12,
   "id": "2a3fc770-9adb-45f5-a23d-0eb0d76951e3",
   "metadata": {},
   "outputs": [
    {
     "data": {
      "text/plain": [
       "(3568, 6217, 3)"
      ]
     },
     "execution_count": 12,
     "metadata": {},
     "output_type": "execute_result"
    }
   ],
   "source": [
    "np.shape(imo)"
   ]
  },
  {
   "cell_type": "code",
   "execution_count": 13,
   "id": "c528202b-e52e-4628-a25d-da2f92843365",
   "metadata": {},
   "outputs": [
    {
     "name": "stdout",
     "output_type": "stream",
     "text": [
      "Proceed with the following step.\n"
     ]
    }
   ],
   "source": [
    "# check if the processed image still has the same shape as the original one\n",
    "# this is necessary because geotiffs use the point of origin (in the top left corner) as a geographical reference \n",
    "# if the image does not have the same shape anymore, the point of origin will not be the same either\n",
    "# if this is the case, the processed image has to be manually georeferenced in QGIS, see the tutorial xxx\n",
    "if np.shape(imo[:,:,0]) == np.shape(imp[:,:,0]):\n",
    "    print(\"Proceed with the following step.\")\n",
    "else:\n",
    "    print(\"The shape of the image was changed during processing, meaning the point of origin can't be assigned from the original to the processed image anymore. Instead, the image has to be georeferenced manually in QGIS.\")"
   ]
  },
  {
   "cell_type": "markdown",
   "id": "dd3895b3-a5b4-4307-82f6-661ed8593fee",
   "metadata": {},
   "source": [
    "to do: \n",
    "- set if-clause to check for loaded pictures\n",
    "- set if-clause to check same size\n",
    "- set projection to same as original pictures\n",
    "- figure out how to make into vector / pretty symbology"
   ]
  },
  {
   "cell_type": "markdown",
   "id": "87bb20e5-4aa4-46b8-b397-1704a85c2b55",
   "metadata": {
    "jp-MarkdownHeadingCollapsed": true
   },
   "source": [
    "## With GDAL"
   ]
  },
  {
   "cell_type": "code",
   "execution_count": 64,
   "id": "24343b87-049c-4269-ad2d-1959573e93c8",
   "metadata": {},
   "outputs": [],
   "source": [
    "# define picture paths\n",
    "src_filename = r\"C:\\Users\\aline\\Seagrass Mapping Drone\\Tifffiles\\AgiosKirikos-Bay1-15022025.tif\"\n",
    "dst_filename = r\"C:\\Users\\aline\\Seagrass Mapping Drone\\Processed tiffs\\AgiosKirikos-Bay1-15022025_GeoRef.tif\"\n",
    "pro_filename = r\"C:\\Users\\aline\\Seagrass Mapping Drone\\Processed tiffs\\Seagrass_binary_AgiosKirikos-Bay1-15022025.tif\""
   ]
  },
  {
   "cell_type": "code",
   "execution_count": 65,
   "id": "1f895dda-2936-4fe8-9e48-a92b0cfc584a",
   "metadata": {},
   "outputs": [],
   "source": [
    "# open original and processed tif in gdal\n",
    "src_ds = gdal.Open(src_filename)\n",
    "pro_ds = gdal.Open(pro_filename)\n",
    "\n",
    "# get geotransform data from the original tif and safe as variable\n",
    "geo_data = src_ds.GetGeoTransform()\n",
    "\n",
    "# get driver\n",
    "fileformat = \"GTiff\"\n",
    "driver = gdal.GetDriverByName(fileformat)\n",
    "\n",
    "# create a copy of the processed image in the correct format (GTiff), then apply geotransform information to the copy\n",
    "dst_ds = driver.CreateCopy(dst_filename, pro_ds, strict=0)\n",
    "dst_ds.SetGeoTransform(geo_data)\n",
    "dst_ds.GetGeoTransform()\n",
    "\n",
    "# assign the right projection\n",
    "src_projection = src_ds.GetProjection()\n",
    "dst_ds.SetProjection(src_projection)\n",
    "\n",
    "# close all files\n",
    "dst_ds = None\n",
    "src_ds = None\n",
    "pro_ds = None"
   ]
  },
  {
   "cell_type": "markdown",
   "id": "c193eb78-c576-440f-bd0f-02070dfae3bf",
   "metadata": {
    "jp-MarkdownHeadingCollapsed": true
   },
   "source": [
    "# Tryouts"
   ]
  },
  {
   "cell_type": "markdown",
   "id": "ce64cda8-bfde-4fd0-8da0-9b25bce10611",
   "metadata": {
    "jp-MarkdownHeadingCollapsed": true
   },
   "source": [
    "## Assign Projection"
   ]
  },
  {
   "cell_type": "code",
   "execution_count": 4,
   "id": "bdd16ad3-9476-4b2f-9fdb-f8b367f07a87",
   "metadata": {},
   "outputs": [
    {
     "name": "stderr",
     "output_type": "stream",
     "text": [
      "C:\\Users\\aline\\anaconda3\\envs\\GeoReference\\Lib\\site-packages\\osgeo\\gdal.py:311: FutureWarning: Neither gdal.UseExceptions() nor gdal.DontUseExceptions() has been explicitly called. In GDAL 4.0, exceptions will be enabled by default.\n",
      "  warnings.warn(\n"
     ]
    }
   ],
   "source": [
    "src_ds = gdal.Open(src_filename)\n",
    "dst_ds = gdal.Open(dst_filename)"
   ]
  },
  {
   "cell_type": "code",
   "execution_count": 5,
   "id": "1d418cae-bc2e-4802-83b7-5d8fea62290d",
   "metadata": {},
   "outputs": [
    {
     "data": {
      "text/plain": [
       "'PROJCS[\"WGS 84 / UTM zone 35N\",GEOGCS[\"WGS 84\",DATUM[\"WGS_1984\",SPHEROID[\"WGS 84\",6378137,298.257223563,AUTHORITY[\"EPSG\",\"7030\"]],AUTHORITY[\"EPSG\",\"6326\"]],PRIMEM[\"Greenwich\",0,AUTHORITY[\"EPSG\",\"8901\"]],UNIT[\"degree\",0.0174532925199433,AUTHORITY[\"EPSG\",\"9122\"]],AUTHORITY[\"EPSG\",\"4326\"]],PROJECTION[\"Transverse_Mercator\"],PARAMETER[\"latitude_of_origin\",0],PARAMETER[\"central_meridian\",27],PARAMETER[\"scale_factor\",0.9996],PARAMETER[\"false_easting\",500000],PARAMETER[\"false_northing\",0],UNIT[\"metre\",1,AUTHORITY[\"EPSG\",\"9001\"]],AXIS[\"Easting\",EAST],AXIS[\"Northing\",NORTH],AUTHORITY[\"EPSG\",\"32635\"]]'"
      ]
     },
     "execution_count": 5,
     "metadata": {},
     "output_type": "execute_result"
    }
   ],
   "source": [
    "src_projection = src_ds.GetProjection()\n",
    "src_projection"
   ]
  },
  {
   "cell_type": "code",
   "execution_count": 6,
   "id": "b1b25a73-d412-4d41-9ea8-f157ce39c3fd",
   "metadata": {},
   "outputs": [
    {
     "data": {
      "text/plain": [
       "1"
      ]
     },
     "execution_count": 6,
     "metadata": {},
     "output_type": "execute_result"
    }
   ],
   "source": [
    "dst_ds.RasterCount"
   ]
  },
  {
   "cell_type": "code",
   "execution_count": 7,
   "id": "4b9b3a98-05aa-470b-b242-cbccd26c8637",
   "metadata": {},
   "outputs": [
    {
     "data": {
      "text/plain": [
       "0"
      ]
     },
     "execution_count": 7,
     "metadata": {},
     "output_type": "execute_result"
    }
   ],
   "source": [
    "dst_ds.SetProjection(src_projection)"
   ]
  },
  {
   "cell_type": "code",
   "execution_count": 8,
   "id": "5f6c9421-bda8-4963-9b3d-ef8820cf84cf",
   "metadata": {},
   "outputs": [],
   "source": [
    "dst_ds = None\n",
    "src_ds = None"
   ]
  },
  {
   "cell_type": "markdown",
   "id": "d338382c-eacc-4567-947d-b0b7327f5eab",
   "metadata": {
    "jp-MarkdownHeadingCollapsed": true
   },
   "source": [
    "## figuring out filenames"
   ]
  },
  {
   "cell_type": "code",
   "execution_count": null,
   "id": "c0e15b12-c8b9-4908-9534-483ddd7d3aa2",
   "metadata": {},
   "outputs": [],
   "source": [
    "# import libraries\n",
    "from osgeo import gdal"
   ]
  },
  {
   "cell_type": "code",
   "execution_count": null,
   "id": "f3c23888-337c-418d-88c2-c452cc8add36",
   "metadata": {},
   "outputs": [],
   "source": [
    "# define picture paths \n",
    "#original tif for the georeferencing, processed tif for the input data, destination tif is the name of the newly created one\n",
    "src_filename = r\"C:\\Users\\aline\\Seagrass Mapping Drone\\Tifffiles\\image.tif\"\n",
    "pro_filename = r\"C:\\Users\\aline\\Seagrass Mapping Drone\\Processed tiffs\\Seagrass_binary_image.tif\"\n",
    "dst_filename = r\"C:\\Users\\aline\\Seagrass Mapping Drone\\Processed tiffs\\Lipsi2_GeoRef.tif\"\n",
    "\n",
    "source_path = r\"C:\\Users\\aline\\Seagrass Mapping Drone\\Tifffiles\"\n",
    "image_name = \"Lemnos-Site11.tif\"\n",
    "image = cv2.imread(os.path.join(source_path, image_name))\n",
    "results_path = r\"C:\\Users\\aline\\Seagrass Mapping Drone\\Processed tiffs\"\n",
    "\n",
    "image_name\n",
    "rf\"C:\\Users\\aline\\Seagrass Mapping Drone\\Tifffiles\\{image_name}\""
   ]
  },
  {
   "cell_type": "code",
   "execution_count": 15,
   "id": "3c66d973-c788-47d3-9bcb-b798c657992c",
   "metadata": {},
   "outputs": [
    {
     "data": {
      "text/plain": [
       "'C:\\\\Users\\\\aline\\\\Seagrass Mapping Drone\\\\Processed tiffs\\\\Seagrass_binary_image.tif'"
      ]
     },
     "execution_count": 15,
     "metadata": {},
     "output_type": "execute_result"
    }
   ],
   "source": [
    "pro_path"
   ]
  },
  {
   "cell_type": "code",
   "execution_count": 16,
   "id": "220c49af-1221-4c65-ba70-0b9ad3f06731",
   "metadata": {},
   "outputs": [],
   "source": [
    "pic = gdal.Open(pro_path)"
   ]
  },
  {
   "cell_type": "code",
   "execution_count": 17,
   "id": "335b662f-8614-434c-8680-1f7e3717883d",
   "metadata": {},
   "outputs": [
    {
     "data": {
      "text/plain": [
       "''"
      ]
     },
     "execution_count": 17,
     "metadata": {},
     "output_type": "execute_result"
    }
   ],
   "source": [
    "pic.GetProjection()"
   ]
  },
  {
   "cell_type": "code",
   "execution_count": 57,
   "id": "5989c0c4-d284-43fd-81c2-9549dd2f709a",
   "metadata": {},
   "outputs": [],
   "source": [
    "image_name = \"AgiosKirikos-Bay1-15022025\"\n",
    "src_path = rf\"C:\\Users\\aline\\Seagrass Mapping Drone\\Tifffiles\\{image_name}\"\n",
    "pro_path = rf\"C:\\Users\\aline\\Seagrass Mapping Drone\\Processed tiffs\\Seagrass_binary_{image_name}\"\n",
    "dst_path = rf\"C:\\Users\\aline\\Seagrass Mapping Drone\\Processed tiffs\\GeoRef_{image_name}\""
   ]
  },
  {
   "cell_type": "code",
   "execution_count": 58,
   "id": "f076a3b1-60af-4ac8-a2db-e97be22238ef",
   "metadata": {},
   "outputs": [
    {
     "ename": "AttributeError",
     "evalue": "'NoneType' object has no attribute 'GetGeoTransform'",
     "output_type": "error",
     "traceback": [
      "\u001b[31m---------------------------------------------------------------------------\u001b[39m",
      "\u001b[31mAttributeError\u001b[39m                            Traceback (most recent call last)",
      "\u001b[36mCell\u001b[39m\u001b[36m \u001b[39m\u001b[32mIn[58]\u001b[39m\u001b[32m, line 6\u001b[39m\n\u001b[32m      3\u001b[39m pro_ds = gdal.Open(pro_path)\n\u001b[32m      5\u001b[39m \u001b[38;5;66;03m# get geotransform data from the original tif and safe as variable\u001b[39;00m\n\u001b[32m----> \u001b[39m\u001b[32m6\u001b[39m geo_data = \u001b[43msrc_ds\u001b[49m\u001b[43m.\u001b[49m\u001b[43mGetGeoTransform\u001b[49m()\n\u001b[32m      8\u001b[39m \u001b[38;5;66;03m# get driver\u001b[39;00m\n\u001b[32m      9\u001b[39m fileformat = \u001b[33m\"\u001b[39m\u001b[33mGTiff\u001b[39m\u001b[33m\"\u001b[39m\n",
      "\u001b[31mAttributeError\u001b[39m: 'NoneType' object has no attribute 'GetGeoTransform'"
     ]
    }
   ],
   "source": [
    "# open original and processed tif in gdal\n",
    "src_ds = gdal.Open(src_path)\n",
    "pro_ds = gdal.Open(pro_path)\n",
    "\n",
    "# get geotransform data from the original tif and safe as variable\n",
    "geo_data = src_ds.GetGeoTransform()\n",
    "\n",
    "# get driver\n",
    "fileformat = \"GTiff\"\n",
    "driver = gdal.GetDriverByName(fileformat)\n",
    "\n",
    "# create a copy of the processed image in the correct format (GTiff), then apply geotransform information to the copy\n",
    "dst_ds = driver.CreateCopy(dst_path, pro_ds, strict=0)\n",
    "dst_ds.SetGeoTransform(geo_data)\n",
    "dst_ds.GetGeoTransform()\n",
    "\n",
    "# apply the same projection to the georeferenced tif\n",
    "src_projection = src_ds.GetProjection()\n",
    "dst_ds.SetProjection(src_projection)\n",
    "\n",
    "# close all files\n",
    "dst_ds = None\n",
    "src_ds = None\n",
    "pro_ds = None"
   ]
  },
  {
   "cell_type": "code",
   "execution_count": 24,
   "id": "fcb5d502-f712-4f36-820e-6afb9d6a7ccc",
   "metadata": {},
   "outputs": [],
   "source": [
    "src_ds = gdal.Open(src_path)"
   ]
  },
  {
   "cell_type": "code",
   "execution_count": 25,
   "id": "7ebba312-5dcd-4174-8508-d4cfdebe10ef",
   "metadata": {},
   "outputs": [
    {
     "ename": "AttributeError",
     "evalue": "'NoneType' object has no attribute 'GetGeoTransform'",
     "output_type": "error",
     "traceback": [
      "\u001b[31m---------------------------------------------------------------------------\u001b[39m",
      "\u001b[31mAttributeError\u001b[39m                            Traceback (most recent call last)",
      "\u001b[36mCell\u001b[39m\u001b[36m \u001b[39m\u001b[32mIn[25]\u001b[39m\u001b[32m, line 1\u001b[39m\n\u001b[32m----> \u001b[39m\u001b[32m1\u001b[39m geo_data = \u001b[43msrc_ds\u001b[49m\u001b[43m.\u001b[49m\u001b[43mGetGeoTransform\u001b[49m()\n",
      "\u001b[31mAttributeError\u001b[39m: 'NoneType' object has no attribute 'GetGeoTransform'"
     ]
    }
   ],
   "source": [
    "geo_data = src_ds.GetGeoTransform()"
   ]
  },
  {
   "cell_type": "code",
   "execution_count": 28,
   "id": "c35aa687-dcc9-46d7-b0c4-3db221db54b0",
   "metadata": {},
   "outputs": [],
   "source": [
    "src_path = r\"C:\\Users\\aline\\Seagrass Mapping Drone\\Tifffiles\\image.tif\"\n",
    "src_ds = gdal.Open(src_filename)"
   ]
  },
  {
   "cell_type": "code",
   "execution_count": 29,
   "id": "bf1076d6-2564-4b12-8552-8ca602f95a93",
   "metadata": {},
   "outputs": [],
   "source": [
    "geo_data = src_ds.GetGeoTransform()"
   ]
  },
  {
   "cell_type": "code",
   "execution_count": 41,
   "id": "eff4498b-0c5d-4247-b25b-783723637087",
   "metadata": {},
   "outputs": [],
   "source": [
    "image_name = \"AgiosKirikos-Bay1-15022025\"\n",
    "src_path = rf\"C:\\Users\\aline\\Seagrass Mapping Drone\\Tifffiles\\{image_name}\""
   ]
  },
  {
   "cell_type": "code",
   "execution_count": 46,
   "id": "396fe365-de07-48af-ab5b-0fe43496c125",
   "metadata": {},
   "outputs": [],
   "source": [
    "src_path = r\"C:\\Users\\aline\\Seagrass Mapping Drone\\Tifffiles\\AgiosKirikos-Bay1-15022025\""
   ]
  },
  {
   "cell_type": "code",
   "execution_count": 50,
   "id": "2fb1f66f-7ea2-412c-8a6c-55b0877c8d2c",
   "metadata": {},
   "outputs": [
    {
     "data": {
      "text/plain": [
       "'C:\\\\Users\\\\aline\\\\Seagrass Mapping Drone\\\\Tifffiles\\\\AgiosKirikos-Bay1-15022025'"
      ]
     },
     "execution_count": 50,
     "metadata": {},
     "output_type": "execute_result"
    }
   ],
   "source": [
    "src_path"
   ]
  },
  {
   "cell_type": "code",
   "execution_count": 51,
   "id": "b02b6c74-d4e5-4978-92e1-25a5394f5bba",
   "metadata": {},
   "outputs": [],
   "source": [
    "src_ds = None"
   ]
  },
  {
   "cell_type": "code",
   "execution_count": 52,
   "id": "3d353b7f-b09b-49e7-a095-6d7d1f306848",
   "metadata": {},
   "outputs": [],
   "source": [
    "src_ds = gdal.Open(src_path)"
   ]
  },
  {
   "cell_type": "code",
   "execution_count": 53,
   "id": "26806963-1b3f-408f-9836-a2d30f6e314f",
   "metadata": {},
   "outputs": [
    {
     "ename": "AttributeError",
     "evalue": "'NoneType' object has no attribute 'GetGeoTransform'",
     "output_type": "error",
     "traceback": [
      "\u001b[31m---------------------------------------------------------------------------\u001b[39m",
      "\u001b[31mAttributeError\u001b[39m                            Traceback (most recent call last)",
      "\u001b[36mCell\u001b[39m\u001b[36m \u001b[39m\u001b[32mIn[53]\u001b[39m\u001b[32m, line 1\u001b[39m\n\u001b[32m----> \u001b[39m\u001b[32m1\u001b[39m gt = \u001b[43msrc_ds\u001b[49m\u001b[43m.\u001b[49m\u001b[43mGetGeoTransform\u001b[49m()\n",
      "\u001b[31mAttributeError\u001b[39m: 'NoneType' object has no attribute 'GetGeoTransform'"
     ]
    }
   ],
   "source": [
    "gt = src_ds.GetGeoTransform()"
   ]
  },
  {
   "cell_type": "code",
   "execution_count": 39,
   "id": "111c7129-2e14-4fd6-9587-51a0f374f704",
   "metadata": {},
   "outputs": [],
   "source": [
    "src_ds = None"
   ]
  },
  {
   "cell_type": "code",
   "execution_count": 36,
   "id": "9c31b83d-5eea-4b8d-ab2d-1b1d9c947cbc",
   "metadata": {},
   "outputs": [],
   "source": [
    "pro_ds = None\n",
    "dst_ds = None"
   ]
  },
  {
   "cell_type": "code",
   "execution_count": 40,
   "id": "ff19bcbf-02ff-4490-b2c6-8863deab2929",
   "metadata": {},
   "outputs": [
    {
     "ename": "AttributeError",
     "evalue": "'NoneType' object has no attribute 'GetGeoTransform'",
     "output_type": "error",
     "traceback": [
      "\u001b[31m---------------------------------------------------------------------------\u001b[39m",
      "\u001b[31mAttributeError\u001b[39m                            Traceback (most recent call last)",
      "\u001b[36mCell\u001b[39m\u001b[36m \u001b[39m\u001b[32mIn[40]\u001b[39m\u001b[32m, line 6\u001b[39m\n\u001b[32m      2\u001b[39m src_path = \u001b[33mrf\u001b[39m\u001b[33m\"\u001b[39m\u001b[33mC:\u001b[39m\u001b[33m\\\u001b[39m\u001b[33mUsers\u001b[39m\u001b[33m\\\u001b[39m\u001b[33maline\u001b[39m\u001b[33m\\\u001b[39m\u001b[33mSeagrass Mapping Drone\u001b[39m\u001b[33m\\\u001b[39m\u001b[33mTifffiles\u001b[39m\u001b[33m\\\u001b[39m\u001b[38;5;132;01m{\u001b[39;00mimage_name\u001b[38;5;132;01m}\u001b[39;00m\u001b[33m\"\u001b[39m\n\u001b[32m      4\u001b[39m src_ds = gdal.Open(src_path)\n\u001b[32m----> \u001b[39m\u001b[32m6\u001b[39m geo_data = \u001b[43msrc_ds\u001b[49m\u001b[43m.\u001b[49m\u001b[43mGetGeoTransform\u001b[49m()\n",
      "\u001b[31mAttributeError\u001b[39m: 'NoneType' object has no attribute 'GetGeoTransform'"
     ]
    }
   ],
   "source": [
    "image_name = \"AgiosKirikos-Bay1-15022025\"\n",
    "src_path = rf\"C:\\Users\\aline\\Seagrass Mapping Drone\\Tifffiles\\{image_name}\"\n",
    "\n",
    "src_ds = gdal.Open(src_path)\n",
    "\n",
    "geo_data = src_ds.GetGeoTransform()"
   ]
  },
  {
   "cell_type": "code",
   "execution_count": null,
   "id": "ded95f77-7a2b-42e1-9bac-dee60a89756b",
   "metadata": {},
   "outputs": [],
   "source": []
  }
 ],
 "metadata": {
  "kernelspec": {
   "display_name": "GeoReference",
   "language": "python",
   "name": "georeference"
  },
  "language_info": {
   "codemirror_mode": {
    "name": "ipython",
    "version": 3
   },
   "file_extension": ".py",
   "mimetype": "text/x-python",
   "name": "python",
   "nbconvert_exporter": "python",
   "pygments_lexer": "ipython3",
   "version": "3.13.2"
  }
 },
 "nbformat": 4,
 "nbformat_minor": 5
}
