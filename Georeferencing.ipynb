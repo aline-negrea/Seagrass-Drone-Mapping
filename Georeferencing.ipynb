{
 "cells": [
  {
   "cell_type": "markdown",
   "id": "43a6c9f2-9ab5-4cac-b0f9-6f95d824da5d",
   "metadata": {},
   "source": [
    "# Georeferencing"
   ]
  },
  {
   "cell_type": "markdown",
   "id": "94c96d6e-509e-43cf-b840-82b490fa0c03",
   "metadata": {},
   "source": [
    "This code uses the geographical information stored in the original unprocessed orthomosaic and applies it to a copy of the Seagrass binary tif, which is the end result of the previous section. The output is a binary tif that can be dragged and dropped into QGIS and has the correct geographical and projection information."
   ]
  },
  {
   "cell_type": "code",
   "execution_count": 6,
   "id": "73ab8a6c-9b09-4095-b451-d81053a5cb19",
   "metadata": {},
   "outputs": [],
   "source": [
    "# import libraries\n",
    "# gdal is short for Geospatial Data Abstraction Library and is also imbedded in QGIS (among others)\n",
    "from osgeo import gdal"
   ]
  },
  {
   "cell_type": "code",
   "execution_count": 32,
   "id": "5e34cfbf-9eb4-4ea0-8fd7-4b6bda337852",
   "metadata": {},
   "outputs": [],
   "source": [
    "image_name = \"AK_tryout\"\n",
    "src_path = rf\"your\\source\\path\\{image_name}.tif\"\n",
    "pro_path = rf\"your\\processed\\path\\{image_name}_SeagrassBinary.tif\"\n",
    "dst_path = rf\"your\\destination\\path\\{image_name}_GeoRef.tif\""
   ]
  },
  {
   "cell_type": "code",
   "execution_count": 38,
   "id": "ed0d3012-fd6d-48ad-8e1e-32f0103a59f8",
   "metadata": {},
   "outputs": [],
   "source": [
    "def georeference(src_path, pro_path, dst_path):\n",
    "    # open original and processed tif as datasets in gdal\n",
    "    src_ds = gdal.Open(src_path)\n",
    "    pro_ds = gdal.Open(pro_path)\n",
    "\n",
    "    # check that there were no errors while loading the images\n",
    "    if src_ds is None:\n",
    "        print(\"The original tif has not loaded correctly.\")\n",
    "    if pro_ds is None:\n",
    "        print(\"The binary tif has not loaded correctly.\")\n",
    "\n",
    "    # get geotransform data from the original tif and save as variable\n",
    "    geo_data = src_ds.GetGeoTransform()\n",
    "    \n",
    "    # calculate the pixel area from the geographical data, necessary for part 6\n",
    "    pixel_area = abs(geo_data[1]) * abs(geo_data[5]) * 10000\n",
    "\n",
    "    # get driver\n",
    "    fileformat = \"GTiff\"\n",
    "    driver = gdal.GetDriverByName(fileformat)\n",
    "\n",
    "    # create a copy of the processed image in the correct format (GTiff), then apply geotransform information to the copy\n",
    "    dst_ds = driver.CreateCopy(dst_path, pro_ds, strict=0)\n",
    "    dst_ds.SetGeoTransform(geo_data)\n",
    "\n",
    "    # assign the right projection\n",
    "    src_projection = src_ds.GetProjection()\n",
    "    dst_ds.SetProjection(src_projection)\n",
    " \n",
    "    if geo_data == dst_ds.GetGeoTransform():\n",
    "        print(f\"The binary file has been successfully georeferenced. The area of one pixel is {pixel_area} centimeters.\")\n",
    "\n",
    "    # close all datasets\n",
    "    dst_ds = None\n",
    "    src_ds = None\n",
    "    pro_ds = None"
   ]
  },
  {
   "cell_type": "code",
   "execution_count": 39,
   "id": "857d6d4f-26e3-4663-ad3c-8f6c9e91c530",
   "metadata": {},
   "outputs": [
    {
     "name": "stdout",
     "output_type": "stream",
     "text": [
      "The binary file has been successfully georeferenced. The area of one pixel is 25.254630790658826 centimeters.\n"
     ]
    }
   ],
   "source": [
    "georeference(src_path, pro_path, dst_path)"
   ]
  }
 ],
 "metadata": {
  "kernelspec": {
   "display_name": "GeoReference",
   "language": "python",
   "name": "georeference"
  },
  "language_info": {
   "codemirror_mode": {
    "name": "ipython",
    "version": 3
   },
   "file_extension": ".py",
   "mimetype": "text/x-python",
   "name": "python",
   "nbconvert_exporter": "python",
   "pygments_lexer": "ipython3",
   "version": "3.13.2"
  }
 },
 "nbformat": 4,
 "nbformat_minor": 5
}
